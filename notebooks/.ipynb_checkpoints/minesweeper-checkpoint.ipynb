{
 "cells": [
  {
   "cell_type": "code",
   "execution_count": 1,
   "metadata": {},
   "outputs": [],
   "source": [
    "import random\n",
    "import numpy as np\n",
    "import pandas as pd"
   ]
  },
  {
   "cell_type": "code",
   "execution_count": null,
   "metadata": {},
   "outputs": [],
   "source": []
  },
  {
   "cell_type": "markdown",
   "metadata": {},
   "source": [
    "#### Helper Functions"
   ]
  },
  {
   "cell_type": "code",
   "execution_count": 2,
   "metadata": {},
   "outputs": [],
   "source": [
    "def random_tuple(tuple_size):\n",
    "    \"\"\"Return a pair of random integers\"\"\"\n",
    "    return np.random.randint(0,tuple_size[0]),np.random.randint(0,tuple_size[1])\n",
    "\n",
    "def get_chunks(master_list, chunk_size):\n",
    "    \"\"\"Yield successive chunk_size-sized chunks from master_list.\"\"\"\n",
    "    return [master_list[element:element + chunk_size] \n",
    "            for element in range(0,len(master_list), chunk_size)]\n"
   ]
  },
  {
   "cell_type": "code",
   "execution_count": 3,
   "metadata": {},
   "outputs": [],
   "source": [
    "def gen_deck(board_size,num_suits,deck_size):\n",
    "    \"\"\"Creates the deck. Returns a uniform number of cards for each suit\"\"\"\n",
    "    \n",
    "    num_cells = board_size[0]*board_size[1]\n",
    "    alphabet = [chr(x).upper() for x in range(ord('a'), ord('z') + 1)]\n",
    "    deck_size = max(deck_size,num_cells)\n",
    "    \n",
    "    # ensures that the number of suits are of equal sizes in the deck\n",
    "    while deck_size % num_suits != 0:\n",
    "        deck_size = deck_size - 1 \n",
    "    suit_size = int(deck_size/num_suits)\n",
    "    \n",
    "    # creates + shuffles the deck\n",
    "    #deck = [[alphabet[num]]*int(suit_size) for num in range(num_suits)]    \n",
    "    deck = [card for num in range(num_suits)\n",
    "                 for card in [alphabet[num]]*int(suit_size)]\n",
    "    np.random.shuffle(deck)\n",
    "    \n",
    "    return deck\n",
    "\n",
    "def gen_board(board_size,deck):\n",
    "    \"\"\"Creates the game boards. It generates:\n",
    "        - an empty board (where cards will be flipped)\n",
    "        - creates a board with the suits to be revealed\n",
    "        - separates the cards in the game board, and those remaining in the deck\n",
    "    \"\"\"\n",
    "    \n",
    "    # shapes the board in the appropriate dimensions\n",
    "    ### THERE LOOKS LIKE THERE IS A BUG HERE ###\n",
    "    num_cells = board_size[0]*board_size[1]\n",
    "    board = get_chunks(deck[:num_cells], board_size[1])\n",
    "    \n",
    "    # create a board filled with empty strings, these will be flipped to reveal cards\n",
    "    # empty_board = np.ones(board_size,dtype=bool)\n",
    "    empty_board = np.array(get_chunks(['' for x in range(num_cells)], board_size[1]))\n",
    "\n",
    "    # separates the deck into cards that are currently on the boar and cards that are not\n",
    "    on_board = deck[:num_cells]\n",
    "    off_board = deck[num_cells:]\n",
    "    \n",
    "    return empty_board, np.array(board), on_board, off_board\n",
    "    \n",
    "def create_game(board_size=(4,4),num_suits=4,deck_size=52):\n",
    "    \"\"\"Creates the game. Returns the game boards and deck\"\"\"\n",
    "    \n",
    "    deck  = gen_deck(board_size,num_suits,deck_size)\n",
    "    empty_board, board, on_board, off_board = gen_board(board_size,deck)\n",
    "    \n",
    "    return deck, empty_board, np.array(board), on_board, off_board\n"
   ]
  },
  {
   "cell_type": "code",
   "execution_count": 4,
   "metadata": {},
   "outputs": [],
   "source": [
    "def flip_card(board_size,empty_board,game_board):\n",
    "    \"\"\"Select a card from the board to flip over.\n",
    "        If all cards are flipped, the game is over\"\"\"\n",
    "    flip_board = empty_board.copy()\n",
    "    \n",
    "    # if all cards are flipped (i.e., if no cards are an empty string), the game is over\n",
    "    if ~np.all(flip_board != ''):\n",
    "        # randomly search for a location to flip a card\n",
    "        # while condition ensures that only face down cards will be selected to be flipped\n",
    "        cell_location = random_tuple(board_size)\n",
    "        while flip_board[cell_location] != '':\n",
    "            cell_location = random_tuple(board_size)\n",
    "    \n",
    "        flip_board[cell_location] = board[cell_location]\n",
    "    else: \n",
    "        print('Conratulations! You won the game!')\n",
    "    \n",
    "    return cell_location, flip_board"
   ]
  },
  {
   "cell_type": "code",
   "execution_count": 5,
   "metadata": {},
   "outputs": [],
   "source": [
    "def parse_cell(game_board,cell_location):\n",
    "    \n",
    "    # extract row + column indices from location of flipped cards\n",
    "    row, column = cell_location\n",
    "    \n",
    "    adj_vals = []\n",
    "    \n",
    "    # check the cards one index away from the flipped card (in the horizontal and vertical directions)\n",
    "    \n",
    "    try:\n",
    "        adj_vals.append(game_board[row-1,column])\n",
    "    except: pass\n",
    "    \n",
    "    try:\n",
    "        adj_vals.append(game_board[row+1,column])\n",
    "    except: pass\n",
    "    \n",
    "    try:\n",
    "        adj_vals.append(game_board[row,column-1])\n",
    "    except: pass\n",
    "    \n",
    "    try:\n",
    "        adj_vals.append(game_board[row,column+1])\n",
    "    except: pass\n",
    "    \n",
    "    return adj_vals\n",
    "    "
   ]
  },
  {
   "cell_type": "code",
   "execution_count": 6,
   "metadata": {},
   "outputs": [],
   "source": [
    "def check_match(game_board,cell_location):\n",
    "    \"\"\" Check a cell to see if there is either a horizonal or vertical match\n",
    "        Return a boolean\n",
    "    \"\"\"\n",
    "    # extract row + column indices from location of flipped cards\n",
    "    row, column = cell_location\n",
    "    \n",
    "    adj_vals = parse_cell(game_board,cell_location)\n",
    "   \n",
    "    # if any card matches the flipped card, return false\n",
    "    match_val = np.any(adj_vals == np.array(game_board[row,column]))\n",
    "    \n",
    "    return match_val\n",
    "    "
   ]
  },
  {
   "cell_type": "code",
   "execution_count": 59,
   "metadata": {},
   "outputs": [],
   "source": [
    "def get_match_prob(game_board):\n",
    "    \"\"\"Calculates the probability of a match for an unflipped card\"\"\"\n",
    "    max_row, max_column = board_size\n",
    "    \n",
    "    perms = [(row,col) for row in range(max_row) for col in range(max_column)]\n",
    "    open_slots = [perm for perm in perms if empty_board[perm] == '']\n",
    "    \n",
    "    match_prob_list = []\n",
    "    for loc in open_slots:\n",
    "        adj_vals = parse_cell(empty_board,loc)\n",
    "        adj_suits = list(set([v for v in adj_vals if v != '']))\n",
    "        match_prob = len(adj_suits)/len(adj_vals)\n",
    "\n",
    "        match_prob_list.append(match_prob)\n",
    "    \n",
    "    min_prob = min(match_prob_list)\n",
    "    #min_loc = np.argmin(match_prob_list)\n",
    "    \n",
    "    bools = np.array(match_prob_list) == min_prob\n",
    "    min_locs = np.array(open_slots)[bools]\n",
    "        \n",
    "    return random.choice(min_locs)\n",
    "    "
   ]
  },
  {
   "cell_type": "code",
   "execution_count": null,
   "metadata": {},
   "outputs": [],
   "source": []
  },
  {
   "cell_type": "markdown",
   "metadata": {},
   "source": [
    "#### Instantiate Game"
   ]
  },
  {
   "cell_type": "code",
   "execution_count": 8,
   "metadata": {},
   "outputs": [],
   "source": [
    "num_suits, deck_size = 4, 52\n",
    "board_size = (4,4)\n",
    "\n",
    "deck = gen_deck(board_size,num_suits,deck_size)\n",
    "empty_board, board, on_board, off_board = gen_board(board_size,deck)\n",
    "\n",
    "#deck,board, on_board, off_board = create_game(board_size,num_suits,deck_size)"
   ]
  },
  {
   "cell_type": "code",
   "execution_count": null,
   "metadata": {},
   "outputs": [],
   "source": []
  },
  {
   "cell_type": "code",
   "execution_count": 9,
   "metadata": {},
   "outputs": [],
   "source": [
    "cell_location, empty_board = flip_card(board_size,empty_board,board)\n",
    " \n",
    "if check_match(empty_board,cell_location): \n",
    "    print('Oh no!')\n",
    "else: pass "
   ]
  },
  {
   "cell_type": "code",
   "execution_count": 52,
   "metadata": {},
   "outputs": [
    {
     "data": {
      "text/plain": [
       "array([['', '', '', ''],\n",
       "       ['', 'D', '', ''],\n",
       "       ['', '', '', ''],\n",
       "       ['', '', '', '']], dtype='<U1')"
      ]
     },
     "execution_count": 52,
     "metadata": {},
     "output_type": "execute_result"
    }
   ],
   "source": [
    "empty_board"
   ]
  },
  {
   "cell_type": "code",
   "execution_count": 63,
   "metadata": {},
   "outputs": [
    {
     "data": {
      "text/plain": [
       "array([3, 3])"
      ]
     },
     "execution_count": 63,
     "metadata": {},
     "output_type": "execute_result"
    }
   ],
   "source": [
    "get_match_prob(empty_board)"
   ]
  },
  {
   "cell_type": "code",
   "execution_count": 64,
   "metadata": {},
   "outputs": [
    {
     "name": "stdout",
     "output_type": "stream",
     "text": [
      "206 µs ± 21.9 µs per loop (mean ± std. dev. of 7 runs, 10000 loops each)\n"
     ]
    }
   ],
   "source": []
  },
  {
   "cell_type": "code",
   "execution_count": null,
   "metadata": {},
   "outputs": [],
   "source": []
  },
  {
   "cell_type": "code",
   "execution_count": null,
   "metadata": {},
   "outputs": [],
   "source": []
  }
 ],
 "metadata": {
  "kernelspec": {
   "display_name": "Python 3",
   "language": "python",
   "name": "python3"
  },
  "language_info": {
   "codemirror_mode": {
    "name": "ipython",
    "version": 3
   },
   "file_extension": ".py",
   "mimetype": "text/x-python",
   "name": "python",
   "nbconvert_exporter": "python",
   "pygments_lexer": "ipython3",
   "version": "3.7.3"
  }
 },
 "nbformat": 4,
 "nbformat_minor": 4
}
