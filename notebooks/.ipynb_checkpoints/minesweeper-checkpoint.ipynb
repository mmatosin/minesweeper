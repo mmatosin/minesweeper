{
 "cells": [
  {
   "cell_type": "code",
   "execution_count": 1,
   "metadata": {},
   "outputs": [],
   "source": [
    "import random\n",
    "import numpy as np\n",
    "import pandas as pd\n",
    "\n",
    "from minesweeper import *"
   ]
  },
  {
   "cell_type": "code",
   "execution_count": null,
   "metadata": {},
   "outputs": [],
   "source": []
  },
  {
   "cell_type": "markdown",
   "metadata": {},
   "source": [
    "#### Instantiate Game"
   ]
  },
  {
   "cell_type": "code",
   "execution_count": 2,
   "metadata": {},
   "outputs": [],
   "source": [
    "num_suits, deck_size = 4, 52\n",
    "board_size = (9,4)\n",
    "\n",
    "deck = gen_deck(board_size, num_suits, deck_size)\n",
    "game_board, sol_board, on_board, off_board = gen_board(board_size,deck)\n",
    "\n",
    "#deck, board, on_board, off_board = create_game(board_size,num_suits,deck_size)"
   ]
  },
  {
   "cell_type": "code",
   "execution_count": 3,
   "metadata": {},
   "outputs": [
    {
     "data": {
      "text/plain": [
       "array([['', '', '', ''],\n",
       "       ['', '', '', ''],\n",
       "       ['', '', '', ''],\n",
       "       ['', '', '', ''],\n",
       "       ['', '', '', ''],\n",
       "       ['', '', '', ''],\n",
       "       ['', '', '', ''],\n",
       "       ['', '', '', ''],\n",
       "       ['', '', '', '']], dtype='<U1')"
      ]
     },
     "execution_count": 3,
     "metadata": {},
     "output_type": "execute_result"
    }
   ],
   "source": [
    "game_board"
   ]
  },
  {
   "cell_type": "code",
   "execution_count": 4,
   "metadata": {},
   "outputs": [
    {
     "data": {
      "text/plain": [
       "array([['C', 'A', 'C', 'B'],\n",
       "       ['C', 'B', 'D', 'A'],\n",
       "       ['A', 'C', 'C', 'A'],\n",
       "       ['A', 'D', 'D', 'D'],\n",
       "       ['B', 'B', 'D', 'D'],\n",
       "       ['B', 'C', 'B', 'C'],\n",
       "       ['C', 'A', 'A', 'C'],\n",
       "       ['B', 'D', 'B', 'B'],\n",
       "       ['A', 'D', 'A', 'C']], dtype='<U1')"
      ]
     },
     "execution_count": 4,
     "metadata": {},
     "output_type": "execute_result"
    }
   ],
   "source": [
    "sol_board"
   ]
  },
  {
   "cell_type": "code",
   "execution_count": null,
   "metadata": {},
   "outputs": [],
   "source": []
  },
  {
   "cell_type": "code",
   "execution_count": null,
   "metadata": {},
   "outputs": [],
   "source": []
  },
  {
   "cell_type": "code",
   "execution_count": 5,
   "metadata": {},
   "outputs": [
    {
     "name": "stdout",
     "output_type": "stream",
     "text": [
      "Move number: 1\n",
      "Move number: 2\n",
      "Move number: 3\n",
      "Move number: 4\n",
      "Move number: 5\n",
      "Move number: 6\n",
      "Move number: 7\n",
      "Move number: 8\n",
      "Move number: 9\n",
      "Move number: 10\n",
      "Move number: 11\n",
      "Move number: 12\n",
      "Move number: 13\n",
      "Move number: 14\n",
      "Move number: 15\n"
     ]
    }
   ],
   "source": [
    "# play the game until a match is found\n",
    "#cell_location, empty_board = flip_random_card(board_size,empty_board,board)\n",
    "game_history = []\n",
    "\n",
    "num_moves = 1\n",
    "\n",
    "loc_to_flip = get_match_prob(game_board)\n",
    "game_board = flip_best_odds(game_board,sol_board,loc_to_flip)\n",
    "game_history.append(game_board)\n",
    "print(\"Move number:\",num_moves)\n",
    "\n",
    "while ~check_match(game_board,loc_to_flip):\n",
    "    loc_to_flip = get_match_prob(game_board)\n",
    "    game_board = flip_best_odds(game_board,sol_board,loc_to_flip)\n",
    "    game_history.append(game_board)\n",
    "    \n",
    "    num_moves += 1\n",
    "    \n",
    "    print(\"Move number:\",num_moves)\n",
    "    '''\n",
    "    print(loc_to_flip)\n",
    "    print(game_board)\n",
    "    print('\\n')\n",
    "    '''"
   ]
  },
  {
   "cell_type": "code",
   "execution_count": null,
   "metadata": {},
   "outputs": [],
   "source": []
  },
  {
   "cell_type": "code",
   "execution_count": null,
   "metadata": {},
   "outputs": [],
   "source": []
  }
 ],
 "metadata": {
  "kernelspec": {
   "display_name": "Python 3",
   "language": "python",
   "name": "python3"
  },
  "language_info": {
   "codemirror_mode": {
    "name": "ipython",
    "version": 3
   },
   "file_extension": ".py",
   "mimetype": "text/x-python",
   "name": "python",
   "nbconvert_exporter": "python",
   "pygments_lexer": "ipython3",
   "version": "3.7.3"
  }
 },
 "nbformat": 4,
 "nbformat_minor": 4
}
