{
 "cells": [
  {
   "cell_type": "code",
   "execution_count": 1,
   "metadata": {},
   "outputs": [],
   "source": [
    "#import os\n",
    "#import string\n",
    "import numpy as np\n",
    "import pandas as pd"
   ]
  },
  {
   "cell_type": "code",
   "execution_count": null,
   "metadata": {},
   "outputs": [],
   "source": []
  },
  {
   "cell_type": "markdown",
   "metadata": {},
   "source": [
    "#### Helper Functions"
   ]
  },
  {
   "cell_type": "code",
   "execution_count": 2,
   "metadata": {},
   "outputs": [],
   "source": [
    "def random_tuple(tuple_size):\n",
    "    return np.random.randint(0,tuple_size[0]),np.random.randint(0,tuple_size[1])\n",
    "\n",
    "def get_chunks(master_list, chunk_size):\n",
    "    \"\"\"Yield successive n=chunk_size-sized chunks from master_list.\"\"\"\n",
    "    return [master_list[element:element + chunk_size] \n",
    "            for element in range(0,len(master_list), chunk_size)]\n"
   ]
  },
  {
   "cell_type": "code",
   "execution_count": 3,
   "metadata": {},
   "outputs": [],
   "source": [
    "def gen_deck(board_size,num_suits,deck_size):\n",
    "    \n",
    "    num_cells = board_size[0]*board_size[1]\n",
    "    alphabet = [chr(x).upper() for x in range(ord('a'), ord('z') + 1)]\n",
    "    deck_size = max(deck_size,num_cells)\n",
    "    \n",
    "    while deck_size % num_suits != 0:\n",
    "        deck_size = deck_size - 1 \n",
    "    suit_size = int(deck_size/num_suits)\n",
    "    \n",
    "    #deck = [[alphabet[num]]*int(suit_size) for num in range(num_suits)]    \n",
    "    deck = [card for num in range(num_suits)\n",
    "                 for card in [alphabet[num]]*int(suit_size)]\n",
    "    np.random.shuffle(deck)\n",
    "    \n",
    "    return deck\n",
    "\n",
    "def gen_board(board_size,deck):\n",
    "    \n",
    "    num_cells = board_size[0]*board_size[1]\n",
    "    board = get_chunks(deck[:num_cells], board_size[1])\n",
    "    \n",
    "    #     empty_board = np.ones(board_size,dtype=bool)\n",
    "    empty_board = np.array(get_chunks(['' for x in range(num_cells)], board_size[1]))\n",
    "\n",
    "    \n",
    "    on_board = deck[:num_cells]\n",
    "    off_board  = deck[num_cells:]\n",
    "    \n",
    "    return empty_board, np.array(board), on_board, off_board\n",
    "    \n",
    "\n",
    "def create_game(board_size=(4,4),num_suits=4,deck_size=52):\n",
    "    \n",
    "    deck  = gen_deck(board_size,num_suits,deck_size)\n",
    "    empty_board, board, on_board, off_board = gen_board(board_size,deck)\n",
    "    \n",
    "    return deck, empty_board, np.array(board), on_board, off_board\n"
   ]
  },
  {
   "cell_type": "code",
   "execution_count": 4,
   "metadata": {},
   "outputs": [],
   "source": [
    "def flip_card(board_size,empty_board,game_board):\n",
    "    \n",
    "    flip_board = empty_board.copy()\n",
    "    \n",
    "    if ~np.all(flip_board != ''):\n",
    "        cell_location = random_tuple(board_size)\n",
    "        while flip_board[cell_location] != '':\n",
    "            cell_location = random_tuple(board_size)\n",
    "    \n",
    "        flip_board[cell_location] = board[cell_location]\n",
    "    else: \n",
    "        print('Conratulations! You won the game!')\n",
    "    \n",
    "    return cell_location, flip_board"
   ]
  },
  {
   "cell_type": "code",
   "execution_count": 5,
   "metadata": {},
   "outputs": [],
   "source": [
    "def check_match(game_board,cell_location=None):\n",
    "    row, column = cell_location\n",
    "    \n",
    "    adj_vals = []\n",
    "    \n",
    "    try:\n",
    "        adj_vals.append(game_board[row-1,column])\n",
    "    except: pass\n",
    "    \n",
    "    try:\n",
    "        adj_vals.append(game_board[row+1,column])\n",
    "    except: pass\n",
    "    \n",
    "    try:\n",
    "        adj_vals.append(game_board[row,column-1])\n",
    "    except: pass\n",
    "    \n",
    "    try:\n",
    "        adj_vals.append(game_board[row,column+1])\n",
    "    except: pass\n",
    "    \n",
    "    match_val = np.any(adj_vals == np.array(game_board[row,column]))\n",
    "    \n",
    "    return match_val\n",
    "    "
   ]
  },
  {
   "cell_type": "code",
   "execution_count": null,
   "metadata": {},
   "outputs": [],
   "source": []
  },
  {
   "cell_type": "markdown",
   "metadata": {},
   "source": [
    "#### Instantiate Game"
   ]
  },
  {
   "cell_type": "code",
   "execution_count": 6,
   "metadata": {},
   "outputs": [],
   "source": [
    "num_suits, deck_size = 4, 52\n",
    "board_size = (4,4)\n",
    "\n",
    "deck= gen_deck(board_size,num_suits,deck_size)\n",
    "empty_board, board, on_board, off_board = gen_board(board_size,deck)\n",
    "\n",
    "#deck,board, on_board, off_board = create_game(board_size,num_suits,deck_size)"
   ]
  },
  {
   "cell_type": "code",
   "execution_count": null,
   "metadata": {},
   "outputs": [],
   "source": []
  },
  {
   "cell_type": "code",
   "execution_count": 22,
   "metadata": {},
   "outputs": [
    {
     "name": "stdout",
     "output_type": "stream",
     "text": [
      "Oh no!\n"
     ]
    }
   ],
   "source": [
    "cell_location, empty_board = flip_card(board_size,empty_board,board)\n",
    " \n",
    "if check_match(empty_board,cell_location): \n",
    "    print('Oh no!')\n",
    "else: pass\n",
    "    "
   ]
  },
  {
   "cell_type": "code",
   "execution_count": 25,
   "metadata": {},
   "outputs": [
    {
     "data": {
      "text/plain": [
       "array([['', 'A', '', ''],\n",
       "       ['', 'B', '', ''],\n",
       "       ['', 'B', '', ''],\n",
       "       ['', 'C', 'D', '']], dtype='<U1')"
      ]
     },
     "execution_count": 25,
     "metadata": {},
     "output_type": "execute_result"
    }
   ],
   "source": [
    "empty_board"
   ]
  },
  {
   "cell_type": "code",
   "execution_count": 9,
   "metadata": {},
   "outputs": [
    {
     "data": {
      "text/plain": [
       "False"
      ]
     },
     "execution_count": 9,
     "metadata": {},
     "output_type": "execute_result"
    }
   ],
   "source": [
    "check_match(empty_board,cell_location)"
   ]
  },
  {
   "cell_type": "code",
   "execution_count": 10,
   "metadata": {},
   "outputs": [
    {
     "data": {
      "text/plain": [
       "False"
      ]
     },
     "execution_count": 10,
     "metadata": {},
     "output_type": "execute_result"
    }
   ],
   "source": [
    "np.any(empty_board[cell_location] == np.array(['', 'C', 'B', '']))"
   ]
  },
  {
   "cell_type": "code",
   "execution_count": 11,
   "metadata": {},
   "outputs": [],
   "source": [
    "# row +/- 1\n",
    "# column +/- 1"
   ]
  },
  {
   "cell_type": "code",
   "execution_count": null,
   "metadata": {},
   "outputs": [],
   "source": []
  },
  {
   "cell_type": "code",
   "execution_count": null,
   "metadata": {},
   "outputs": [],
   "source": []
  },
  {
   "cell_type": "code",
   "execution_count": 12,
   "metadata": {},
   "outputs": [
    {
     "data": {
      "text/plain": [
       "array([['', '', '', ''],\n",
       "       ['', '', '', ''],\n",
       "       ['', '', '', ''],\n",
       "       ['', '', 'D', '']], dtype='<U1')"
      ]
     },
     "execution_count": 12,
     "metadata": {},
     "output_type": "execute_result"
    }
   ],
   "source": [
    "empty_board"
   ]
  },
  {
   "cell_type": "code",
   "execution_count": null,
   "metadata": {},
   "outputs": [],
   "source": []
  },
  {
   "cell_type": "code",
   "execution_count": null,
   "metadata": {},
   "outputs": [],
   "source": []
  },
  {
   "cell_type": "code",
   "execution_count": 13,
   "metadata": {},
   "outputs": [
    {
     "data": {
      "text/plain": [
       "''"
      ]
     },
     "execution_count": 13,
     "metadata": {},
     "output_type": "execute_result"
    }
   ],
   "source": [
    "empty_board[(1,3)]"
   ]
  },
  {
   "cell_type": "code",
   "execution_count": null,
   "metadata": {},
   "outputs": [],
   "source": []
  },
  {
   "cell_type": "code",
   "execution_count": 14,
   "metadata": {},
   "outputs": [
    {
     "data": {
      "text/plain": [
       "'\\ncell_location = random_tuple(board_size) \\n#np.random.randint(0,board_size[0]),np.random.randint(0,board_size[1])\\n\\nwhile type(empty_board[cell_location]) == bool:\\n    cell_location = random_tuple(board_size)\\n    #np.random.randint(0,board_size[0]),np.random.randint(0,board_size[1])\\n\\nprint(\"Cell to Flip:\",cell_location)\\nprint(\"Revealed Suit:\",board[cell_location])\\n\\nempty_board[cell_location] = board[cell_location]\\n'"
      ]
     },
     "execution_count": 14,
     "metadata": {},
     "output_type": "execute_result"
    }
   ],
   "source": [
    "'''\n",
    "cell_location = random_tuple(board_size) \n",
    "#np.random.randint(0,board_size[0]),np.random.randint(0,board_size[1])\n",
    "\n",
    "while type(empty_board[cell_location]) == bool:\n",
    "    cell_location = random_tuple(board_size)\n",
    "    #np.random.randint(0,board_size[0]),np.random.randint(0,board_size[1])\n",
    "\n",
    "print(\"Cell to Flip:\",cell_location)\n",
    "print(\"Revealed Suit:\",board[cell_location])\n",
    "\n",
    "empty_board[cell_location] = board[cell_location]\n",
    "'''"
   ]
  },
  {
   "cell_type": "code",
   "execution_count": null,
   "metadata": {},
   "outputs": [],
   "source": []
  },
  {
   "cell_type": "code",
   "execution_count": null,
   "metadata": {},
   "outputs": [],
   "source": []
  }
 ],
 "metadata": {
  "kernelspec": {
   "display_name": "Python 3",
   "language": "python",
   "name": "python3"
  },
  "language_info": {
   "codemirror_mode": {
    "name": "ipython",
    "version": 3
   },
   "file_extension": ".py",
   "mimetype": "text/x-python",
   "name": "python",
   "nbconvert_exporter": "python",
   "pygments_lexer": "ipython3",
   "version": "3.7.3"
  }
 },
 "nbformat": 4,
 "nbformat_minor": 4
}
